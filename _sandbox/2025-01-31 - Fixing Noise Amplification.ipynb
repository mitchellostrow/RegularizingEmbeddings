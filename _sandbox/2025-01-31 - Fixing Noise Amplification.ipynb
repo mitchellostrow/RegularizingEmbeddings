{
 "cells": [
  {
   "cell_type": "code",
   "execution_count": 2,
   "metadata": {},
   "outputs": [
    {
     "ename": "ModuleNotFoundError",
     "evalue": "No module named 'RegularizingEmbeddings.flows'",
     "output_type": "error",
     "traceback": [
      "\u001b[0;31m---------------------------------------------------------------------------\u001b[0m",
      "\u001b[0;31mModuleNotFoundError\u001b[0m                       Traceback (most recent call last)",
      "Cell \u001b[0;32mIn[2], line 6\u001b[0m\n\u001b[1;32m      3\u001b[0m \u001b[38;5;28;01mimport\u001b[39;00m\u001b[38;5;250m \u001b[39m\u001b[38;5;21;01mtorch\u001b[39;00m\n\u001b[1;32m      5\u001b[0m get_ipython()\u001b[38;5;241m.\u001b[39mrun_line_magic(\u001b[38;5;124m'\u001b[39m\u001b[38;5;124mautoreload\u001b[39m\u001b[38;5;124m'\u001b[39m, \u001b[38;5;124m'\u001b[39m\u001b[38;5;124m2\u001b[39m\u001b[38;5;124m'\u001b[39m)\n\u001b[0;32m----> 6\u001b[0m \u001b[38;5;28;01mfrom\u001b[39;00m\u001b[38;5;250m \u001b[39m\u001b[38;5;21;01mRegularizingEmbeddings\u001b[39;00m\u001b[38;5;21;01m.\u001b[39;00m\u001b[38;5;21;01mflows\u001b[39;00m\u001b[38;5;250m \u001b[39m\u001b[38;5;28;01mimport\u001b[39;00m Lorenz\n\u001b[1;32m      8\u001b[0m \u001b[38;5;66;03m## Load and simulate an attractor\u001b[39;00m\n\u001b[1;32m      9\u001b[0m model \u001b[38;5;241m=\u001b[39m Lorenz()\n",
      "\u001b[0;31mModuleNotFoundError\u001b[0m: No module named 'RegularizingEmbeddings.flows'"
     ]
    }
   ],
   "source": [
    "import matplotlib.pyplot as plt\n",
    "import numpy as np\n",
    "import torch\n",
    "\n",
    "%load_ext autoreload\n",
    "%autoreload 2\n",
    "from RegularizingEmbeddings.flows import Lorenz\n",
    "\n",
    "## Load and simulate an attractor\n",
    "model = Lorenz()\n",
    "model.dt = 0.01\n",
    "noise = 0.01\n",
    "sol = model.make_trajectory(1000, resample=False, noise=0.0)\n",
    "\n",
    "sol += np.random.normal(0, noise, sol.shape)\n",
    "\n",
    "fig, ax = plt.subplots(1, 2, figsize=(10, 5))\n",
    "ax[0].plot(sol[:, 0], sol[:, 1])\n",
    "ax[1].plot(sol[:, 1])"
   ]
  },
  {
   "cell_type": "code",
   "execution_count": 77,
   "metadata": {},
   "outputs": [],
   "source": [
    "\n",
    "sol = sol[np.newaxis]"
   ]
  },
  {
   "cell_type": "code",
   "execution_count": 78,
   "metadata": {},
   "outputs": [
    {
     "name": "stdout",
     "output_type": "stream",
     "text": [
      "The autoreload extension is already loaded. To reload it, use:\n",
      "  %reload_ext autoreload\n"
     ]
    }
   ],
   "source": [
    "%load_ext autoreload\n",
    "%autoreload 2"
   ]
  },
  {
   "cell_type": "code",
   "execution_count": 86,
   "metadata": {},
   "outputs": [
    {
     "name": "stdout",
     "output_type": "stream",
     "text": [
      "(10000, 10) (10000, 10)\n",
      "[0.27243601 0.28934429 0.29534164 ... 0.54726184 0.50679035 0.49112452]\n"
     ]
    }
   ],
   "source": [
    "from RegularizingEmbeddings.amplification import find_neighbors, get_dists_bw_all_neighbors \n",
    "distances, indices = find_neighbors(sol[0], 10)\n",
    "print(distances.shape, indices.shape)\n",
    "dists = get_dists_bw_all_neighbors(sol[0], indices)\n",
    "print(dists)"
   ]
  },
  {
   "cell_type": "code",
   "execution_count": 88,
   "metadata": {},
   "outputs": [
    {
     "data": {
      "text/plain": [
       "torch.Size([1, 10000, 30])"
      ]
     },
     "execution_count": 88,
     "metadata": {},
     "output_type": "execute_result"
    }
   ],
   "source": [
    "#compute a delay embedding\n",
    "from RegularizingEmbeddings.models.delayed_mlp import embed_signal_torch\n",
    "H = embed_signal_torch(sol, 10, 1)\n",
    "H.shape"
   ]
  },
  {
   "cell_type": "code",
   "execution_count": 90,
   "metadata": {},
   "outputs": [
    {
     "data": {
      "text/plain": [
       "(9995,)"
      ]
     },
     "execution_count": 90,
     "metadata": {},
     "output_type": "execute_result"
    }
   ],
   "source": [
    "from RegularizingEmbeddings.amplification import compute_EkT\n",
    "\n",
    "E_kT = compute_EkT(sol, H, 10, 5)\n",
    "E_kT.shape"
   ]
  },
  {
   "cell_type": "code",
   "execution_count": 91,
   "metadata": {},
   "outputs": [
    {
     "name": "stdout",
     "output_type": "stream",
     "text": [
      "(9994,)\n",
      "(9994,)\n",
      "(9994,)\n",
      "(9994,)\n",
      "(9994,)\n"
     ]
    },
    {
     "data": {
      "text/plain": [
       "(5, 9994)"
      ]
     },
     "execution_count": 91,
     "metadata": {},
     "output_type": "execute_result"
    }
   ],
   "source": [
    "from RegularizingEmbeddings.amplification import compute_Ek\n",
    "\n",
    "max_T = 5\n",
    "n_neighbors = 10\n",
    "E_k = compute_Ek(sol, H, n_neighbors, max_T)\n",
    "E_k.shape"
   ]
  },
  {
   "cell_type": "code",
   "execution_count": 94,
   "metadata": {},
   "outputs": [
    {
     "name": "stdout",
     "output_type": "stream",
     "text": [
      "Automatic pdb calling has been turned ON\n"
     ]
    }
   ],
   "source": [
    "%pdb"
   ]
  },
  {
   "cell_type": "code",
   "execution_count": 106,
   "metadata": {},
   "outputs": [
    {
     "data": {
      "text/plain": [
       "torch.Size([9994])"
      ]
     },
     "execution_count": 106,
     "metadata": {},
     "output_type": "execute_result"
    }
   ],
   "source": [
    "from RegularizingEmbeddings.amplification import compute_eps_k\n",
    "mdists = compute_eps_k(H,n_neighbors,thresh=max_T)\n",
    "mdists.shape"
   ]
  },
  {
   "cell_type": "code",
   "execution_count": 104,
   "metadata": {},
   "outputs": [
    {
     "name": "stdout",
     "output_type": "stream",
     "text": [
      "computing noise amp\n"
     ]
    }
   ],
   "source": [
    "from RegularizingEmbeddings.amplification import compute_noise_amp_k\n",
    "\n",
    "noise_amp, E_k, eps_k = compute_noise_amp_k(sol, H, n_neighbors, max_T)"
   ]
  },
  {
   "cell_type": "code",
   "execution_count": 107,
   "metadata": {},
   "outputs": [
    {
     "data": {
      "text/plain": [
       "(tensor(0.0550, dtype=torch.float64),\n",
       " tensor(0.3844, dtype=torch.float64),\n",
       " tensor(7.1578))"
      ]
     },
     "execution_count": 107,
     "metadata": {},
     "output_type": "execute_result"
    }
   ],
   "source": [
    "noise_amp,E_k, eps_k"
   ]
  },
  {
   "cell_type": "code",
   "execution_count": null,
   "metadata": {},
   "outputs": [],
   "source": []
  }
 ],
 "metadata": {
  "kernelspec": {
   "display_name": "reg_emb",
   "language": "python",
   "name": "python3"
  },
  "language_info": {
   "codemirror_mode": {
    "name": "ipython",
    "version": 3
   },
   "file_extension": ".py",
   "mimetype": "text/x-python",
   "name": "python",
   "nbconvert_exporter": "python",
   "pygments_lexer": "ipython3",
   "version": "3.11.11"
  }
 },
 "nbformat": 4,
 "nbformat_minor": 2
}
