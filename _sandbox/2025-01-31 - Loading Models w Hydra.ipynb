{
 "cells": [
  {
   "cell_type": "code",
   "execution_count": 1,
   "metadata": {},
   "outputs": [],
   "source": [
    "%load_ext autoreload"
   ]
  },
  {
   "cell_type": "code",
   "execution_count": 23,
   "metadata": {},
   "outputs": [],
   "source": [
    "%autoreload 2\n",
    "import hydra\n",
    "import sys\n",
    "import torch\n",
    "\n",
    "from RegularizingEmbeddings.data.data_generation import make_trajectories, postprocess_data, create_dataloaders\n",
    "from RegularizingEmbeddings.data.data_utils import generate_train_and_test_sets"
   ]
  },
  {
   "cell_type": "code",
   "execution_count": 20,
   "metadata": {},
   "outputs": [],
   "source": [
    "# load the config\n",
    "with hydra.initialize(version_base=\"1.3\", config_path=\"../conf\"):\n",
    "    cfg = hydra.compose(config_name=\"config\")\n"
   ]
  },
  {
   "cell_type": "code",
   "execution_count": 24,
   "metadata": {},
   "outputs": [],
   "source": [
    "torch.random.manual_seed(cfg.data.flow.random_state)\n",
    "eq, sol, dt = make_trajectories(cfg)\n",
    "\n",
    "# Postprocess data\n",
    "values = postprocess_data(cfg, sol)\n",
    "\n",
    "# Create train and test sets\n",
    "train_dataset, val_dataset, test_dataset, trajs = generate_train_and_test_sets(values, **cfg.data.train_test_params)"
   ]
  },
  {
   "cell_type": "code",
   "execution_count": null,
   "metadata": {},
   "outputs": [],
   "source": []
  }
 ],
 "metadata": {
  "kernelspec": {
   "display_name": "reg_emb",
   "language": "python",
   "name": "python3"
  },
  "language_info": {
   "codemirror_mode": {
    "name": "ipython",
    "version": 3
   },
   "file_extension": ".py",
   "mimetype": "text/x-python",
   "name": "python",
   "nbconvert_exporter": "python",
   "pygments_lexer": "ipython3",
   "version": "3.11.11"
  }
 },
 "nbformat": 4,
 "nbformat_minor": 2
}
